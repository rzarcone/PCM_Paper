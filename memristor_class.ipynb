{
 "cells": [
  {
   "cell_type": "code",
   "execution_count": 1,
   "metadata": {
    "collapsed": false
   },
   "outputs": [],
   "source": [
    "import tensorflow as tf\n",
    "import numpy as np\n",
    "import pandas as pd\n",
    "from get_data import get_memristor_data\n",
    "from main import MemristorAutoEncoder\n",
    "import matplotlib.pyplot as plt\n",
    "plt.rcParams['image.cmap'] = 'gray'\n",
    "%matplotlib inline"
   ]
  },
  {
   "cell_type": "code",
   "execution_count": 2,
   "metadata": {
    "collapsed": false
   },
   "outputs": [],
   "source": [
    "path = 'Data/Partial_Reset_PCM.pkl'\n",
    "\n",
    "n_mem = 400\n",
    "norm_min, norm_max = -0.9, 0.9\n",
    "\n",
    "(vs_data, mus_data, sigs_data, \n",
    " orig_VMIN, orig_VMAX, orig_RMIN, orig_RMAX) = get_memristor_data(path, n_mem, norm_min=norm_min, norm_max=norm_max)\n",
    "\n",
    "n_samp, n_m = vs_data.shape"
   ]
  },
  {
   "cell_type": "code",
   "execution_count": 3,
   "metadata": {
    "collapsed": true
   },
   "outputs": [],
   "source": [
    "dataset = ['mnist', 'imagenet'][1]"
   ]
  },
  {
   "cell_type": "code",
   "execution_count": null,
   "metadata": {
    "collapsed": false
   },
   "outputs": [],
   "source": [
    "if dataset == 'mnist':\n",
    "    from tensorflow.examples.tutorials.mnist import input_data\n",
    "    mnist = input_data.read_data_sets('MNIST_data', one_hot=True)\n",
    "\n",
    "    from utils import DataAndNoiseGenerator\n",
    "    train_data_obj = DataAndNoiseGenerator(mnist.train.images, n_m)\n",
    "    summary_data_obj = DataAndNoiseGenerator(mnist.test.images, n_m)\n",
    "    _, data_dim = mnist.train.images.shape\n",
    "    image_shape = (28, 28)\n",
    "    data_obj = DataAndNoiseGenerator(mnist.test.images, n_m)\n",
    "    \n",
    "elif dataset == 'imagenet':\n",
    "    import os\n",
    "    from utils import FileAndNoiseGenerator\n",
    "    \n",
    "    data_partition = ['train', 'valid'][0]\n",
    "    size = [32, 64][0]\n",
    "    file_directory = '/home/aga/imagenet_data/{}_{}x{}'.format(data_partition, size, size)\n",
    "    file_list = os.listdir(file_directory)\n",
    "    n_train = 60000\n",
    "    n_test  = 1000\n",
    "    train_data_obj = FileAndNoiseGenerator(\n",
    "        file_list[0:n_train], file_directory, n_m)\n",
    "    summary_data_obj = FileAndNoiseGenerator(\n",
    "        file_list[n_train:n_train + n_test], file_directory, n_m, max_batches=1)\n",
    "    data_dim = size ** 2 * 3\n",
    "    data_obj = summary_data_obj\n",
    "    image_shape = (32, 32, 3)\n",
    "    \n",
    "    \n",
    "else: \n",
    "    raise ValueError('Invalid Dataset {}'.format(dataset))"
   ]
  },
  {
   "cell_type": "code",
   "execution_count": null,
   "metadata": {
    "collapsed": false
   },
   "outputs": [],
   "source": [
    "mae = MemristorAutoEncoder(\n",
    "    gamma=10,\n",
    "    data_dim=data_dim,\n",
    "    memristor_data={\n",
    "        'vs_data': vs_data,\n",
    "        'mus_data': mus_data,\n",
    "        'sigs_data': sigs_data,\n",
    "        'vmin': norm_min,\n",
    "        'vmax': norm_max,\n",
    "        'orig_v_range': (orig_VMIN, orig_VMAX), \n",
    "        'orig_r_range': (orig_RMIN, orig_RMAX)\n",
    "    },\n",
    "    encoder_params={\n",
    "        'layer_sizes': [data_dim, 1000, 400, n_m],\n",
    "        'non_linearity': 'tanh'\n",
    "    },\n",
    "    decoder_params={\n",
    "        'layer_sizes': [n_m, 400, 1000, data_dim],\n",
    "        'non_linearity': 'tanh'\n",
    "    },\n",
    "    optimizer_params={\n",
    "        'batch_size': 50,\n",
    "        'num_epochs': 50,\n",
    "        'method': 'adam',\n",
    "        'learning_rate': 0.001\n",
    "    },\n",
    "    output_dir='output',\n",
    "    param_file=None)\n",
    "#     param_file='tmp/model.ckpt')"
   ]
  },
  {
   "cell_type": "code",
   "execution_count": null,
   "metadata": {
    "collapsed": false
   },
   "outputs": [],
   "source": [
    "mae.fit(train_data_obj, summary_data_obj)"
   ]
  },
  {
   "cell_type": "code",
   "execution_count": null,
   "metadata": {
    "collapsed": false
   },
   "outputs": [],
   "source": [
    "eval_vals = mae.inspect_network(data_obj)"
   ]
  },
  {
   "cell_type": "code",
   "execution_count": null,
   "metadata": {
    "collapsed": true
   },
   "outputs": [],
   "source": [
    "def RV_density_plot(Vs, Rs, cmap, bins=300):\n",
    "    v_flat = np.ravel(Vs)\n",
    "    r_flat = np.ravel(Rs)\n",
    "\n",
    "    r_indx = np.isfinite(r_flat)\n",
    "\n",
    "    # v_flat = np.nan_to_num(v_flat)\n",
    "    v_flat = v_flat[r_indx]\n",
    "    r_flat = r_flat[r_indx]\n",
    "\n",
    "    heatmap, xedges, yedges = np.histogram2d(v_flat, r_flat, bins=bins)\n",
    "    extent = [xedges[0], xedges[-1], yedges[0], yedges[-1]]\n",
    "\n",
    "    plt.figure(figsize=(5,10))\n",
    "    plt.imshow(heatmap.T, extent=extent, origin='lower',interpolation='nearest',\n",
    "               cmap=cmap)\n",
    "#     plt.colorbar()\n",
    "#     plt.show()"
   ]
  },
  {
   "cell_type": "code",
   "execution_count": null,
   "metadata": {
    "collapsed": false
   },
   "outputs": [],
   "source": [
    "RV_density_plot(eval_vals['v'], eval_vals['r'], cmap=plt.cm.jet)"
   ]
  },
  {
   "cell_type": "code",
   "execution_count": null,
   "metadata": {
    "collapsed": false
   },
   "outputs": [],
   "source": [
    "plt.scatter(eval_vals['v'], eval_vals['r'])"
   ]
  },
  {
   "cell_type": "code",
   "execution_count": null,
   "metadata": {
    "collapsed": false
   },
   "outputs": [],
   "source": [
    "plt.hist(eval_vals['v'].ravel(), bins=50)"
   ]
  },
  {
   "cell_type": "code",
   "execution_count": null,
   "metadata": {
    "collapsed": false
   },
   "outputs": [],
   "source": [
    "RV_density_plot(eval_vals['v'], eval_vals['r']-3, cmap=plt.cm.jet)\n",
    "\n",
    "plt.hist(eval_vals['v'].ravel(), bins=50, normed=True);"
   ]
  },
  {
   "cell_type": "code",
   "execution_count": null,
   "metadata": {
    "collapsed": false
   },
   "outputs": [],
   "source": [
    "(eval_vals['x'] ** 2).sum(axis=-1) / ((eval_vals['x'] - eval_vals['xh']) ** 2).sum(axis=-1)"
   ]
  },
  {
   "cell_type": "code",
   "execution_count": null,
   "metadata": {
    "collapsed": false,
    "scrolled": false
   },
   "outputs": [],
   "source": [
    "q_ = [0, 10, 12]\n",
    "n_imgs = len(q_)\n",
    "plt.figure(figsize=(15, 4 * n_imgs))\n",
    "for i, q in enumerate(q_):\n",
    "    plt.subplot(n_imgs, 3, 1 + 3 * i)\n",
    "    plt.imshow(eval_vals['x'][q].reshape(*image_shape))\n",
    "    plt.colorbar()\n",
    "    plt.subplot(n_imgs, 3, 2 + 3 * i)\n",
    "    plt.imshow(eval_vals['xh'][q].reshape(image_shape), vmin=0, vmax=1)\n",
    "\n",
    "    plt.colorbar()\n",
    "\n",
    "    plt.subplot(n_imgs, 3, 3 + 3 * i)\n",
    "    plt.scatter(eval_vals['v'][q], eval_vals['r'][q])\n",
    "    plt.xlabel('V')\n",
    "    plt.ylabel('log(R)')"
   ]
  },
  {
   "cell_type": "code",
   "execution_count": null,
   "metadata": {
    "collapsed": true
   },
   "outputs": [],
   "source": [
    "x = eval_vals['x']\n",
    "xh = eval_vals['xh']"
   ]
  },
  {
   "cell_type": "code",
   "execution_count": null,
   "metadata": {
    "collapsed": true
   },
   "outputs": [],
   "source": [
    "def snr(u, v):\n",
    "    return np.mean(\n",
    "        (u ** 2).mean(axis=1) / \n",
    "        ((u - v) ** 2).mean(axis=1)\n",
    "    )"
   ]
  },
  {
   "cell_type": "code",
   "execution_count": null,
   "metadata": {
    "collapsed": false
   },
   "outputs": [],
   "source": [
    "snr(x, xh)"
   ]
  },
  {
   "cell_type": "code",
   "execution_count": null,
   "metadata": {
    "collapsed": false
   },
   "outputs": [],
   "source": [
    "snr(x, np.clip(xh, 0, 1))"
   ]
  },
  {
   "cell_type": "code",
   "execution_count": null,
   "metadata": {
    "collapsed": true
   },
   "outputs": [],
   "source": [
    "def RV_density_plot(Vs, Rs, cmap, bins=300):\n",
    "    v_flat = np.ravel(Vs)\n",
    "    r_flat = np.ravel(Rs)\n",
    "\n",
    "#     r_indx = np.isfinite(r_flat)\n",
    "\n",
    "    # v_flat = np.nan_to_num(v_flat)\n",
    "#     v_flat = v_flat[r_indx]\n",
    "#     r_flat = r_flat[r_indx]\n",
    "\n",
    "    heatmap, xedges, yedges = np.histogram2d(v_flat, r_flat, bins=bins)\n",
    "    extent = [xedges[0], xedges[-1], yedges[0], yedges[-1]]\n",
    "\n",
    "    plt.figure(figsize=(5,10))\n",
    "    plt.imshow(heatmap.T, extent=extent, origin='lower',interpolation='nearest',\n",
    "               cmap=cmap)\n",
    "#     plt.colorbar()\n",
    "#     plt.show()"
   ]
  },
  {
   "cell_type": "code",
   "execution_count": null,
   "metadata": {
    "collapsed": false
   },
   "outputs": [],
   "source": [
    "RV_density_plot(eval_vals['v'][:, 0], eval_vals['v'][:, 3], plt.cm.jet, bins=100)"
   ]
  },
  {
   "cell_type": "code",
   "execution_count": null,
   "metadata": {
    "collapsed": false
   },
   "outputs": [],
   "source": [
    "plt.scatter()\n",
    "plt.axis('equal')"
   ]
  },
  {
   "cell_type": "code",
   "execution_count": null,
   "metadata": {
    "collapsed": false
   },
   "outputs": [],
   "source": [
    "28 * 28 * 8"
   ]
  },
  {
   "cell_type": "code",
   "execution_count": null,
   "metadata": {
    "collapsed": true
   },
   "outputs": [],
   "source": [
    "plt.imsave?"
   ]
  },
  {
   "cell_type": "code",
   "execution_count": null,
   "metadata": {
    "collapsed": false
   },
   "outputs": [],
   "source": [
    "plt.imsave('img.jpg', eval_vals['x'][0].reshape(28, 28))"
   ]
  },
  {
   "cell_type": "code",
   "execution_count": null,
   "metadata": {
    "collapsed": false
   },
   "outputs": [],
   "source": [
    "pwd"
   ]
  },
  {
   "cell_type": "code",
   "execution_count": null,
   "metadata": {
    "collapsed": true
   },
   "outputs": [],
   "source": [
    "image_dir = '/home/aga/imagenet_data/train_64x64'"
   ]
  },
  {
   "cell_type": "code",
   "execution_count": null,
   "metadata": {
    "collapsed": true
   },
   "outputs": [],
   "source": [
    "import os"
   ]
  },
  {
   "cell_type": "code",
   "execution_count": null,
   "metadata": {
    "collapsed": true
   },
   "outputs": [],
   "source": [
    "files = os.listdir(image_dir)"
   ]
  },
  {
   "cell_type": "code",
   "execution_count": null,
   "metadata": {
    "collapsed": true
   },
   "outputs": [],
   "source": [
    "files.sort()"
   ]
  },
  {
   "cell_type": "code",
   "execution_count": null,
   "metadata": {
    "collapsed": false
   },
   "outputs": [],
   "source": [
    "files[0]"
   ]
  },
  {
   "cell_type": "code",
   "execution_count": null,
   "metadata": {
    "collapsed": true
   },
   "outputs": [],
   "source": [
    "import matplotlib.pyplot as plt\n",
    "%matplotlib inline"
   ]
  },
  {
   "cell_type": "code",
   "execution_count": null,
   "metadata": {
    "collapsed": false
   },
   "outputs": [],
   "source": [
    "img = plt.imread(os.path.join(image_dir, '0000010.png'))"
   ]
  },
  {
   "cell_type": "code",
   "execution_count": null,
   "metadata": {
    "collapsed": false
   },
   "outputs": [],
   "source": [
    "files[-1]"
   ]
  },
  {
   "cell_type": "code",
   "execution_count": null,
   "metadata": {
    "collapsed": false
   },
   "outputs": [],
   "source": [
    "img.shape"
   ]
  },
  {
   "cell_type": "code",
   "execution_count": null,
   "metadata": {
    "collapsed": false
   },
   "outputs": [],
   "source": [
    "plt.imshow(img)"
   ]
  },
  {
   "cell_type": "code",
   "execution_count": null,
   "metadata": {
    "collapsed": false
   },
   "outputs": [],
   "source": [
    "img.size"
   ]
  },
  {
   "cell_type": "code",
   "execution_count": null,
   "metadata": {
    "collapsed": true
   },
   "outputs": [],
   "source": [
    "import numpy as np"
   ]
  },
  {
   "cell_type": "code",
   "execution_count": null,
   "metadata": {
    "collapsed": true
   },
   "outputs": [],
   "source": [
    "n_files = 1281149"
   ]
  },
  {
   "cell_type": "code",
   "execution_count": null,
   "metadata": {
    "collapsed": false
   },
   "outputs": [],
   "source": [
    "image_dir"
   ]
  },
  {
   "cell_type": "code",
   "execution_count": null,
   "metadata": {
    "collapsed": false
   },
   "outputs": [],
   "source": [
    "'/home/aga/imagenet_data/train_64x64/{:07d}.png'.format(10)"
   ]
  },
  {
   "cell_type": "code",
   "execution_count": null,
   "metadata": {
    "collapsed": true
   },
   "outputs": [],
   "source": [
    "pattern = '/home/aga/imagenet_data/train_64x64/{:07d}.png'"
   ]
  },
  {
   "cell_type": "code",
   "execution_count": null,
   "metadata": {
    "collapsed": true
   },
   "outputs": [],
   "source": [
    "def pattern_batch_generator(pattern, n_files, batch_size=1000):\n",
    "    num_batches = n_files / batch_size\n",
    "    \n",
    "    for i in range(num_batches):\n",
    "        batch = None\n",
    "        for j in range(batch_size * i, batch_size * (i + 1)):\n",
    "            img = plt.imread(pattern.format(j + 1))\n",
    "            if batch is None:\n",
    "                n_features = img.size\n",
    "                batch = np.zeros((batch_size, n_features))\n",
    "            batch[j % batch_size] = img.ravel()\n",
    "        yield batch"
   ]
  },
  {
   "cell_type": "code",
   "execution_count": null,
   "metadata": {
    "collapsed": true
   },
   "outputs": [],
   "source": [
    "files = os.listdir('/home/aga/imagenet_data/train_32x32/')"
   ]
  },
  {
   "cell_type": "code",
   "execution_count": null,
   "metadata": {
    "collapsed": true
   },
   "outputs": [],
   "source": [
    "files.sort()"
   ]
  },
  {
   "cell_type": "code",
   "execution_count": null,
   "metadata": {
    "collapsed": false
   },
   "outputs": [],
   "source": [
    "files[-1]"
   ]
  },
  {
   "cell_type": "code",
   "execution_count": null,
   "metadata": {
    "collapsed": true
   },
   "outputs": [],
   "source": [
    "gen = pattern_batch_generator(\n",
    "    pattern='/home/aga/imagenet_data/train_32x32/{:07d}.png',\n",
    "    n_files=1281150)"
   ]
  },
  {
   "cell_type": "code",
   "execution_count": null,
   "metadata": {
    "collapsed": false
   },
   "outputs": [],
   "source": [
    "%%time\n",
    "for batch in gen:\n",
    "    print batch.mean()\n",
    "    break"
   ]
  },
  {
   "cell_type": "code",
   "execution_count": null,
   "metadata": {
    "collapsed": true
   },
   "outputs": [],
   "source": [
    "def file_batch_generator(files, batch_size, directory, max_batches=100):\n",
    "    n_samples = len(files)\n",
    "    num_batches = n_samples / batch_size\n",
    "    \n",
    "    for i in range(num_batches):\n",
    "        if i >= max_batches:\n",
    "            break\n",
    "        file_batch = files[(i + 0) * batch_size: \n",
    "                           (i + 1) * batch_size]\n",
    "        batch = None\n",
    "        for j, fn in enumerate(file_batch):\n",
    "            img = plt.imread(os.path.join(directory, fn))\n",
    "            if batch is None:\n",
    "                n_features = img.size\n",
    "                batch = np.zeros((batch_size, n_features))\n",
    "            batch[j] = img.ravel()\n",
    "        yield batch"
   ]
  },
  {
   "cell_type": "code",
   "execution_count": null,
   "metadata": {
    "collapsed": true
   },
   "outputs": [],
   "source": [
    "gen = file_batch_generator(files, 10, image_dir)"
   ]
  },
  {
   "cell_type": "code",
   "execution_count": null,
   "metadata": {
    "collapsed": false
   },
   "outputs": [],
   "source": [
    "files[1]"
   ]
  },
  {
   "cell_type": "code",
   "execution_count": null,
   "metadata": {
    "collapsed": false
   },
   "outputs": [],
   "source": [
    "%%time\n",
    "for datum in gen:\n",
    "    print datum.mean()\n",
    "    break"
   ]
  },
  {
   "cell_type": "code",
   "execution_count": null,
   "metadata": {
    "collapsed": false
   },
   "outputs": [],
   "source": [
    "datum.mean"
   ]
  },
  {
   "cell_type": "code",
   "execution_count": null,
   "metadata": {
    "collapsed": true
   },
   "outputs": [],
   "source": []
  }
 ],
 "metadata": {
  "kernelspec": {
   "display_name": "Python 3",
   "language": "python",
   "name": "python3"
  },
  "language_info": {
   "codemirror_mode": {
    "name": "ipython",
    "version": 3
   },
   "file_extension": ".py",
   "mimetype": "text/x-python",
   "name": "python",
   "nbconvert_exporter": "python",
   "pygments_lexer": "ipython3",
   "version": "3.5.2"
  }
 },
 "nbformat": 4,
 "nbformat_minor": 0
}
