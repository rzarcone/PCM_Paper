{
 "cells": [
  {
   "cell_type": "code",
   "execution_count": 1,
   "metadata": {
    "collapsed": false
   },
   "outputs": [],
   "source": [
    "import numpy as np\n",
    "import tensorflow as tf\n",
    "from get_data import get_memristor_data\n",
    "try: \n",
    "    from itertools import izip\n",
    "except:\n",
    "    izip = zip\n",
    "    \n",
    "import matplotlib.pyplot as plt\n",
    "%matplotlib inline\n",
    "from matplotlib.colors import LogNorm\n",
    "    \n",
    "import os\n",
    "if not os.path.exists('tmp/'):\n",
    "    os.makedirs('tmp/')"
   ]
  },
  {
   "cell_type": "code",
   "execution_count": 2,
   "metadata": {
    "collapsed": true
   },
   "outputs": [],
   "source": [
    "def gauss_interp(samp, xs, ys, interp_width, ratio=0.75):\n",
    "    \"\"\"\n",
    "    Parameters\n",
    "    ----------\n",
    "    samp : tf.tensor (batch_size, n_m)\n",
    "    xs : tf.tensor (n_p, n_m)\n",
    "        Grid inputs\n",
    "    ys : tf.tensor (n_p, n_m)\n",
    "        Grid outputs\n",
    "    interp_width : float\n",
    "        Spacing between the xs\n",
    "    Returns\n",
    "    -------\n",
    "    interp_func : tf.tensor (batch_size, n_m)\n",
    "    \"\"\"\n",
    "    samp = tf.expand_dims(samp, 1)  # (batch, 1, n_m)\n",
    "    xs = tf.cast(tf.expand_dims(xs, 0), tf.float32)  # (1, n_p, n_m)\n",
    "    ys = tf.cast(tf.expand_dims(ys, 0), tf.float32)  # (1, n_p, n_m)\n",
    "    sig = np.float32(ratio * interp_width)  # spacing of xs\n",
    "    norm_factor = np.sqrt(2 * np.pi) * sig / interp_width\n",
    "    norm_factor = np.array(norm_factor, dtype='float32')\n",
    "    return tf.reduce_sum(ys * tf.exp( -0.5 * (samp - xs) ** 2 / sig ** 2) /\n",
    "                         norm_factor,\n",
    "                  reduction_indices=1)"
   ]
  },
  {
   "cell_type": "code",
   "execution_count": 3,
   "metadata": {
    "collapsed": true
   },
   "outputs": [],
   "source": [
    "def memristor_output(v, eps, vs, mus, sigs, interp_width):\n",
    "    \"\"\"\n",
    "    Parameters\n",
    "    ----------\n",
    "    mu, sig, eps : tf.tensor (batch_size, n_m)\n",
    "        mean, standard deviation, noise\n",
    "    \"\"\"\n",
    "    mean = gauss_interp(v, vs, mus, interp_width)\n",
    "    sdev = gauss_interp(v, vs, sigs, interp_width)\n",
    "    return mean + eps * sdev"
   ]
  },
  {
   "cell_type": "code",
   "execution_count": 4,
   "metadata": {
    "collapsed": false
   },
   "outputs": [],
   "source": [
    "def _train_graph(\n",
    "    graph,\n",
    "    init_op,\n",
    "    train_op,\n",
    "    cost_op, # FIXME unused\n",
    "    summary_dict,\n",
    "    saver,\n",
    "    train_data_object,\n",
    "    summary_data_object,\n",
    "    feed_vars,\n",
    "    batch_size,\n",
    "    num_epochs,\n",
    "    param_file,\n",
    "    checkpoint_every_n_epochs,\n",
    "    global_step,\n",
    "    save_path='tmp/model.ckpt'\n",
    "):\n",
    "    config = tf.ConfigProto()\n",
    "    config.gpu_options.allow_growth = True\n",
    "\n",
    "    inc_global_step = tf.assign(global_step, global_step + 1)\n",
    "    with tf.Session(graph=graph, config=config) as sess:\n",
    "        sess.run(init_op) if param_file is None else saver.restore(sess, param_file)\n",
    "        for j in range(num_epochs):\n",
    "            sess.run(inc_global_step)\n",
    "            train_data_generator = train_data_object.get_generator(batch_size)\n",
    "            for feed_values in train_data_generator:\n",
    "                sess.run(\n",
    "                    train_op,\n",
    "                    feed_dict=dict(zip(feed_vars, feed_values))\n",
    "                )\n",
    "\n",
    "            summary_data_generator = summary_data_object.get_generator()\n",
    "            for feed_values in summary_data_generator:\n",
    "                summary_vals = sess.run(summary_dict,\n",
    "                    feed_dict=dict(zip(feed_vars, feed_values))\n",
    "                )\n",
    "                print(\n",
    "                    'Iteration: {}  '.format(j) +\n",
    "                    ''.join(['{}: {:0.6f} '.format(k, v) for k, v in\n",
    "                         summary_vals.items()]))\n",
    "            if j % checkpoint_every_n_epochs == 0:\n",
    "                new_save_path = saver.save(\n",
    "                    sess, save_path, global_step=j)\n",
    "\n",
    "        new_save_path = saver.save(sess, save_path)\n",
    "    return new_save_path"
   ]
  },
  {
   "cell_type": "code",
   "execution_count": 5,
   "metadata": {
    "collapsed": true
   },
   "outputs": [],
   "source": [
    "def _eval_graph(\n",
    "    graph,\n",
    "    saver,\n",
    "    eval_ops,\n",
    "    data_object,\n",
    "    feed_vars,\n",
    "    param_file):\n",
    "\n",
    "    config = tf.ConfigProto()\n",
    "    config.gpu_options.allow_growth = True\n",
    "\n",
    "    with tf.Session(graph=graph, config=config) as sess:\n",
    "        saver.restore(sess, param_file)\n",
    "        data_generator = data_object.get_generator()\n",
    "        for feed_values in data_generator:\n",
    "            eval_vals = sess.run(eval_ops,\n",
    "                feed_dict=dict(zip(feed_vars, feed_values))\n",
    "            )\n",
    "    return eval_vals"
   ]
  },
  {
   "cell_type": "code",
   "execution_count": 6,
   "metadata": {
    "collapsed": true
   },
   "outputs": [],
   "source": [
    "def random_generator(batch_size, n_features, max_size=10):\n",
    "    for i in range(max_size):\n",
    "        yield np.random.randn(batch_size, n_features)\n",
    "\n",
    "class DataAndNoiseGenerator(object):\n",
    "    \"\"\"\n",
    "    Object that Handles Creation of Data Generators.\n",
    "    \"\"\"\n",
    "    def __init__(self, data_dim, noise_dim, max_size=1):\n",
    "        self.data_dim = data_dim\n",
    "        self.noise_dim = noise_dim\n",
    "        self.max_size = max_size\n",
    "\n",
    "    def get_generator(self, batch_size=None):\n",
    "        if batch_size is None:\n",
    "            batch_size = self.data_dim[0]\n",
    "        max_size = self.max_size\n",
    "        input_gen = random_generator(*self.data_dim, max_size=max_size)\n",
    "        rand_gen = random_generator(*self.noise_dim, max_size=max_size)\n",
    "        return izip(input_gen, rand_gen)"
   ]
  },
  {
   "cell_type": "code",
   "execution_count": 7,
   "metadata": {
    "collapsed": true
   },
   "outputs": [],
   "source": [
    "n_m = 1\n",
    "batch_size = 1000\n",
    "mem_path = 'data/Partial_Reset_PCM.pkl'\n",
    "lr = 0.0005\n",
    "num_epochs=50\n"
   ]
  },
  {
   "cell_type": "code",
   "execution_count": 8,
   "metadata": {
    "collapsed": false
   },
   "outputs": [],
   "source": [
    "vs_data, mus_data, sigs_data, _, _, _, _ = get_memristor_data(path=mem_path, n_mem=n_m)"
   ]
  },
  {
   "cell_type": "code",
   "execution_count": 9,
   "metadata": {
    "collapsed": true
   },
   "outputs": [],
   "source": [
    "def smoother(y):\n",
    "    return tf.reduce_mean((y[2:] + y[:-2] - 2 * y[1:-1]) ** 2) * 100\n"
   ]
  },
  {
   "cell_type": "code",
   "execution_count": 10,
   "metadata": {
    "collapsed": false
   },
   "outputs": [],
   "source": [
    "g = tf.Graph()\n",
    "with g.as_default():\n",
    "    tp = tf.placeholder(dtype='float32', shape=(batch_size, n_m))\n",
    "    # Encoder\n",
    "    xx = np.linspace(-3, 3, 200)[:, np.newaxis].astype('float32')\n",
    "    x_encoder = tf.Variable(initial_value=xx, trainable=False)\n",
    "    y_encoder = tf.Variable(initial_value=xx, trainable=True)\n",
    "\n",
    "    reg_encoder_loss = smoother(y_encoder)\n",
    "    \n",
    "    interp_width=(xx[1] - xx[0])\n",
    "    t = gauss_interp(tp, xs=x_encoder, ys=y_encoder, interp_width=interp_width)\n",
    "\n",
    "    reg_loss = tf.reduce_mean(tf.reduce_sum(\n",
    "                      10. * (tf.nn.relu(t - 1)\n",
    "                      + tf.nn.relu(-1 - t))))\n",
    "\n",
    "    \n",
    "    # Channel\n",
    "\n",
    "    eps = tf.placeholder(dtype='float32', shape=(batch_size, n_m))\n",
    "    vs, mus, sigs = [tf.Variable(initial_value=_, trainable=False) for _ in [vs_data, mus_data, sigs_data]]\n",
    "\n",
    "    s = memristor_output(t, eps=eps, vs=vs, mus=mus, sigs=sigs, interp_width=vs_data[1] - vs_data[0])\n",
    "\n",
    "    # Decoder\n",
    "    x_decoder = tf.Variable(initial_value=xx, trainable=False)\n",
    "    y_decoder = tf.Variable(initial_value=xx, trainable=True)\n",
    "\n",
    "    reg_decoder_loss = smoother(y_decoder)\n",
    "    sp = gauss_interp(s, xs=x_decoder, ys=y_decoder, interp_width=interp_width)\n",
    "\n",
    "    rec_loss = tf.reduce_mean((sp - tp) ** 2)\n",
    "    loss = rec_loss + reg_loss + reg_decoder_loss + reg_encoder_loss\n",
    "\n",
    "    \n",
    "    global_step = tf.Variable(0, name='global_step', trainable=False, dtype=tf.int32)\n",
    "    \n",
    "\n",
    "    opt = tf.train.AdamOptimizer(lr)\n",
    "    \n",
    "    train_op = opt.minimize(loss=loss, global_step=global_step)\n",
    "    summary_dict={'loss': loss, 'reg_dec': reg_decoder_loss, 'reg_enc': reg_encoder_loss}\n",
    "    \n",
    "    feed_vars=[tp, eps]\n",
    "    \n",
    "    saver = tf.train.Saver()\n",
    "    init_op = tf.global_variables_initializer()\n"
   ]
  },
  {
   "cell_type": "code",
   "execution_count": 11,
   "metadata": {
    "collapsed": true
   },
   "outputs": [],
   "source": [
    "data_gen_train = DataAndNoiseGenerator(data_dim=(batch_size, n_m), noise_dim=(batch_size, n_m), max_size=100)\n",
    "data_gen_val = DataAndNoiseGenerator(data_dim=(batch_size, n_m), noise_dim=(batch_size, n_m))"
   ]
  },
  {
   "cell_type": "code",
   "execution_count": 12,
   "metadata": {
    "collapsed": false
   },
   "outputs": [
    {
     "name": "stdout",
     "output_type": "stream",
     "text": [
      "Iteration: 0  loss: 1515.915649 reg_enc: 0.000635 reg_dec: 0.000532 \n",
      "Iteration: 1  loss: 1309.884399 reg_enc: 0.001864 reg_dec: 0.001092 \n",
      "Iteration: 2  loss: 1106.183594 reg_enc: 0.002557 reg_dec: 0.001514 \n",
      "Iteration: 3  loss: 985.966797 reg_enc: 0.003099 reg_dec: 0.001917 \n",
      "Iteration: 4  loss: 1049.063477 reg_enc: 0.003388 reg_dec: 0.002065 \n",
      "Iteration: 5  loss: 1098.394775 reg_enc: 0.003911 reg_dec: 0.002055 \n",
      "Iteration: 6  loss: 762.084778 reg_enc: 0.004410 reg_dec: 0.002035 \n",
      "Iteration: 7  loss: 693.061218 reg_enc: 0.005035 reg_dec: 0.001860 \n",
      "Iteration: 8  loss: 748.144104 reg_enc: 0.004970 reg_dec: 0.001722 \n",
      "Iteration: 9  loss: 568.482849 reg_enc: 0.004966 reg_dec: 0.001581 \n",
      "Iteration: 10  loss: 574.754272 reg_enc: 0.005740 reg_dec: 0.001470 \n",
      "Iteration: 11  loss: 525.015381 reg_enc: 0.005804 reg_dec: 0.001422 \n",
      "Iteration: 12  loss: 500.486267 reg_enc: 0.005826 reg_dec: 0.001463 \n",
      "Iteration: 13  loss: 376.193481 reg_enc: 0.006480 reg_dec: 0.001450 \n",
      "Iteration: 14  loss: 339.226807 reg_enc: 0.006716 reg_dec: 0.001418 \n",
      "Iteration: 15  loss: 356.831909 reg_enc: 0.007210 reg_dec: 0.001415 \n",
      "Iteration: 16  loss: 292.515594 reg_enc: 0.007443 reg_dec: 0.001410 \n",
      "Iteration: 17  loss: 288.482178 reg_enc: 0.007471 reg_dec: 0.001461 \n",
      "Iteration: 18  loss: 236.850327 reg_enc: 0.007325 reg_dec: 0.001463 \n",
      "Iteration: 19  loss: 136.190628 reg_enc: 0.007631 reg_dec: 0.001467 \n",
      "Iteration: 20  loss: 230.149887 reg_enc: 0.007447 reg_dec: 0.001527 \n",
      "Iteration: 21  loss: 236.309967 reg_enc: 0.007500 reg_dec: 0.001510 \n",
      "Iteration: 22  loss: 225.781601 reg_enc: 0.007729 reg_dec: 0.001575 \n",
      "Iteration: 23  loss: 103.661766 reg_enc: 0.007991 reg_dec: 0.001588 \n",
      "Iteration: 24  loss: 121.615669 reg_enc: 0.008007 reg_dec: 0.001590 \n",
      "Iteration: 25  loss: 118.065399 reg_enc: 0.008301 reg_dec: 0.001600 \n",
      "Iteration: 26  loss: 119.061859 reg_enc: 0.007983 reg_dec: 0.001616 \n",
      "Iteration: 27  loss: 115.857567 reg_enc: 0.008098 reg_dec: 0.001643 \n",
      "Iteration: 28  loss: 47.082893 reg_enc: 0.008347 reg_dec: 0.001746 \n",
      "Iteration: 29  loss: 86.975983 reg_enc: 0.007707 reg_dec: 0.001716 \n",
      "Iteration: 30  loss: 75.818161 reg_enc: 0.007907 reg_dec: 0.001697 \n",
      "Iteration: 31  loss: 77.330109 reg_enc: 0.006940 reg_dec: 0.001725 \n",
      "Iteration: 32  loss: 78.518402 reg_enc: 0.007367 reg_dec: 0.001723 \n",
      "Iteration: 33  loss: 43.825478 reg_enc: 0.007356 reg_dec: 0.001721 \n",
      "Iteration: 34  loss: 34.116386 reg_enc: 0.007389 reg_dec: 0.001728 \n",
      "Iteration: 35  loss: 38.021927 reg_enc: 0.007926 reg_dec: 0.001734 \n",
      "Iteration: 36  loss: 30.249680 reg_enc: 0.008015 reg_dec: 0.001782 \n",
      "Iteration: 37  loss: 19.583036 reg_enc: 0.008496 reg_dec: 0.001754 \n",
      "Iteration: 38  loss: 39.018143 reg_enc: 0.009159 reg_dec: 0.001750 \n",
      "Iteration: 39  loss: 47.983856 reg_enc: 0.008802 reg_dec: 0.001745 \n",
      "Iteration: 40  loss: 47.718052 reg_enc: 0.008516 reg_dec: 0.001762 \n",
      "Iteration: 41  loss: 31.955116 reg_enc: 0.008700 reg_dec: 0.001738 \n",
      "Iteration: 42  loss: 27.062201 reg_enc: 0.008507 reg_dec: 0.001758 \n",
      "Iteration: 43  loss: 16.721661 reg_enc: 0.007961 reg_dec: 0.001730 \n",
      "Iteration: 44  loss: 26.287489 reg_enc: 0.008255 reg_dec: 0.001740 \n",
      "Iteration: 45  loss: 17.904892 reg_enc: 0.008904 reg_dec: 0.001737 \n",
      "Iteration: 46  loss: 18.524836 reg_enc: 0.009451 reg_dec: 0.001733 \n",
      "Iteration: 47  loss: 12.589059 reg_enc: 0.010533 reg_dec: 0.001749 \n",
      "Iteration: 48  loss: 19.648108 reg_enc: 0.011162 reg_dec: 0.001716 \n",
      "Iteration: 49  loss: 15.988726 reg_enc: 0.011270 reg_dec: 0.001712 \n"
     ]
    },
    {
     "data": {
      "text/plain": [
       "'tmp/model.ckpt'"
      ]
     },
     "execution_count": 12,
     "metadata": {},
     "output_type": "execute_result"
    }
   ],
   "source": [
    "_train_graph(\n",
    "    graph=g,\n",
    "    init_op=init_op,\n",
    "    train_op=train_op,\n",
    "    cost_op=None, # FIXME unused\n",
    "    summary_dict=summary_dict,\n",
    "    saver=saver,\n",
    "    train_data_object=data_gen_train,\n",
    "    summary_data_object=data_gen_val,\n",
    "    feed_vars=feed_vars,\n",
    "    batch_size=batch_size,\n",
    "    num_epochs=num_epochs,\n",
    "    param_file=None,\n",
    "    checkpoint_every_n_epochs=10,\n",
    "    global_step=global_step, save_path='tmp/model.ckpt'\n",
    ")"
   ]
  },
  {
   "cell_type": "code",
   "execution_count": 13,
   "metadata": {
    "collapsed": false
   },
   "outputs": [
    {
     "name": "stdout",
     "output_type": "stream",
     "text": [
      "INFO:tensorflow:Restoring parameters from tmp/model.ckpt\n"
     ]
    }
   ],
   "source": [
    "eval_ops = {\n",
    "    'tp': tp,\n",
    "    't': t,\n",
    "    's': s,\n",
    "    'sp': sp,\n",
    "    'y_encoder': y_encoder,\n",
    "    'y_decoder': y_decoder,\n",
    "    'mse': rec_loss\n",
    "}\n",
    "\n",
    "vals = _eval_graph(\n",
    "    graph=g,\n",
    "    saver=saver,\n",
    "    eval_ops=eval_ops,\n",
    "    data_object=data_gen_val,\n",
    "    feed_vars=feed_vars,\n",
    "    param_file='tmp/model.ckpt')"
   ]
  },
  {
   "cell_type": "code",
   "execution_count": 14,
   "metadata": {
    "collapsed": false
   },
   "outputs": [
    {
     "data": {
      "text/plain": [
       "dict_keys(['y_encoder', 'mse', 't', 'tp', 'y_decoder', 's', 'sp'])"
      ]
     },
     "execution_count": 14,
     "metadata": {},
     "output_type": "execute_result"
    }
   ],
   "source": [
    "vals.keys()"
   ]
  },
  {
   "cell_type": "code",
   "execution_count": 25,
   "metadata": {
    "collapsed": false
   },
   "outputs": [
    {
     "data": {
      "text/plain": [
       "10.443315584680944"
      ]
     },
     "execution_count": 25,
     "metadata": {},
     "output_type": "execute_result"
    }
   ],
   "source": [
    "10 * np.log10(1/vals['mse']) "
   ]
  },
  {
   "cell_type": "code",
   "execution_count": 16,
   "metadata": {
    "collapsed": false
   },
   "outputs": [
    {
     "data": {
      "text/plain": [
       "[<matplotlib.lines.Line2D at 0x1182a7c88>]"
      ]
     },
     "execution_count": 16,
     "metadata": {},
     "output_type": "execute_result"
    },
    {
     "data": {
      "image/png": "[encoded data removed]",
      "text/plain": [
       "<matplotlib.figure.Figure at 0x104a207f0>"
      ]
     },
     "metadata": {},
     "output_type": "display_data"
    }
   ],
   "source": [
    "plt.plot(xx, vals['y_encoder'])"
   ]
  },
  {
   "cell_type": "code",
   "execution_count": 17,
   "metadata": {
    "collapsed": false,
    "scrolled": true
   },
   "outputs": [
    {
     "data": {
      "text/plain": [
       "[<matplotlib.lines.Line2D at 0x119bffef0>]"
      ]
     },
     "execution_count": 17,
     "metadata": {},
     "output_type": "execute_result"
    },
    {
     "data": {
      "image/png": "[encoded data removed]",
      "text/plain": [
       "<matplotlib.figure.Figure at 0x1181c8668>"
      ]
     },
     "metadata": {},
     "output_type": "display_data"
    }
   ],
   "source": [
    "plt.plot(xx, vals['y_decoder'])"
   ]
  },
  {
   "cell_type": "code",
   "execution_count": 27,
   "metadata": {
    "collapsed": false
   },
   "outputs": [
    {
     "data": {
      "image/png": "[encoded data removed]",
      "text/plain": [
       "<matplotlib.figure.Figure at 0x11c7dab38>"
      ]
     },
     "metadata": {},
     "output_type": "display_data"
    }
   ],
   "source": [
    "fig, axes = plt.subplots(2, 2, figsize=(10, 10))\n",
    "for ax, k in zip(axes.flat, ['tp', 't', 's', 'sp']):\n",
    "    ax.hist(vals[k], bins=50)\n",
    "    ax.set_title(k)\n",
    "#     ax.set_yscale('log')\n",
    "    \n",
    "_= axes[1,1].set_xlim(*(axes[0, 0].get_xlim()))"
   ]
  },
  {
   "cell_type": "code",
   "execution_count": 19,
   "metadata": {
    "collapsed": false
   },
   "outputs": [
    {
     "data": {
      "text/plain": [
       "<matplotlib.collections.PathCollection at 0x118207710>"
      ]
     },
     "execution_count": 19,
     "metadata": {},
     "output_type": "execute_result"
    },
    {
     "data": {
      "image/png": "[encoded data removed]",
      "text/plain": [
       "<matplotlib.figure.Figure at 0x1182075f8>"
      ]
     },
     "metadata": {},
     "output_type": "display_data"
    }
   ],
   "source": [
    "plt.plot(vs_data, mus_data)\n",
    "plt.scatter(vals['t'], vals['s'])"
   ]
  },
  {
   "cell_type": "code",
   "execution_count": 35,
   "metadata": {
    "collapsed": false
   },
   "outputs": [
    {
     "data": {
      "text/plain": [
       "(-1.75, 1.75)"
      ]
     },
     "execution_count": 35,
     "metadata": {},
     "output_type": "execute_result"
    },
    {
     "data": {
      "image/png": "[encoded data removed]",
      "text/plain": [
       "<matplotlib.figure.Figure at 0x11c6f4780>"
      ]
     },
     "metadata": {},
     "output_type": "display_data"
    }
   ],
   "source": [
    "plt.plot(xx, vals['y_encoder'], label='f')\n",
    "plt.plot(xx, vals['y_decoder'], label='h')\n",
    "plt.plot(vs_data, mus_data, label='g')\n",
    "plt.plot(xx, xx, 'k--', label='x')\n",
    "plt.xlim(-1.5,1.5)\n",
    "plt.ylim(-1.75,1.75)"
   ]
  },
  {
   "cell_type": "code",
   "execution_count": null,
   "metadata": {
    "collapsed": true
   },
   "outputs": [],
   "source": [
    "# x = c_[linspace(0,1,1000)]\n",
    "# close('all')\n",
    "# f, h = f_h(theta, n_symbols, n_devices)\n",
    "# plot(x, f[0,0](x), label='f')\n",
    "# plot(x, g_eval(x), label='g')\n",
    "# plot(x, h[0,0](x), label='h')\n",
    "# xhat = forward(x, theta, n_devices)\n",
    "# plot(x, xhat, label='xhat')\n",
    "# plot(x, x, 'k--', label='x')\n",
    "# legend(loc='upper left')"
   ]
  },
  {
   "cell_type": "code",
   "execution_count": 20,
   "metadata": {
    "collapsed": false
   },
   "outputs": [
    {
     "data": {
      "text/plain": [
       "<matplotlib.colorbar.Colorbar at 0x1193b99e8>"
      ]
     },
     "execution_count": 20,
     "metadata": {},
     "output_type": "execute_result"
    },
    {
     "data": {
      "image/png": "[encoded data removed]",
      "text/plain": [
       "<matplotlib.figure.Figure at 0x116ab1f60>"
      ]
     },
     "metadata": {},
     "output_type": "display_data"
    }
   ],
   "source": [
    "_ = plt.hist2d(vals['tp'].ravel(), vals['sp'].ravel(), bins=50, norm=LogNorm())\n",
    "plt.plot(xx, xx)\n",
    "plt.colorbar()"
   ]
  },
  {
   "cell_type": "code",
   "execution_count": 21,
   "metadata": {
    "collapsed": false
   },
   "outputs": [
    {
     "data": {
      "text/plain": [
       "<matplotlib.collections.PathCollection at 0x118c8ad30>"
      ]
     },
     "execution_count": 21,
     "metadata": {},
     "output_type": "execute_result"
    },
    {
     "data": {
      "image/png": "[encoded data removed]",
      "text/plain": [
       "<matplotlib.figure.Figure at 0x1196aaf98>"
      ]
     },
     "metadata": {},
     "output_type": "display_data"
    }
   ],
   "source": [
    "plt.scatter(vals['tp'].ravel(), vals['sp'].ravel())"
   ]
  }
 ],
 "metadata": {
  "kernelspec": {
   "display_name": "Python 3",
   "language": "python",
   "name": "python3"
  },
  "language_info": {
   "codemirror_mode": {
    "name": "ipython",
    "version": 3
   },
   "file_extension": ".py",
   "mimetype": "text/x-python",
   "name": "python",
   "nbconvert_exporter": "python",
   "pygments_lexer": "ipython3",
   "version": "3.5.2"
  }
 },
 "nbformat": 4,
 "nbformat_minor": 0
}
