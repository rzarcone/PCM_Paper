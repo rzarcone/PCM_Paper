{
 "cells": [
  {
   "cell_type": "code",
   "execution_count": 40,
   "metadata": {
    "collapsed": true
   },
   "outputs": [],
   "source": [
    "from __future__ import division\n",
    "from pylab import *\n",
    "from scipy import optimize\n",
    "import numpy as np\n",
    "import pandas as pd\n",
    "\n",
    "import Jesse_Funcs_New.JessePlot\n",
    "import Jesse_Funcs_New.blahut as blahut\n",
    "import Jesse_Funcs_New.helpers as helpers\n",
    "import matplotlib.pyplot as plt\n",
    "%matplotlib inline  "
   ]
  },
  {
   "cell_type": "code",
   "execution_count": 2,
   "metadata": {},
   "outputs": [
    {
     "data": {
      "text/plain": [
       "array([[ 1.03066364,  1.03456128,  0.        ,  0.        ],\n",
       "       [ 1.03526249,  1.98494333,  2.00124845,  0.        ],\n",
       "       [ 0.        ,  2.00228688,  2.11968304,  0.        ],\n",
       "       [ 0.        ,  0.        ,  0.        ,  0.        ]])"
      ]
     },
     "execution_count": 2,
     "metadata": {},
     "output_type": "execute_result"
    }
   ],
   "source": [
    "data_file = np.load('C_nonequal_optimized.npz')\n",
    "data_file['data'].item()['C_nonequal']"
   ]
  },
  {
   "cell_type": "code",
   "execution_count": 3,
   "metadata": {},
   "outputs": [
    {
     "data": {
      "text/plain": [
       "array([[ 1.  ,  1.  ,  1.  ,  1.  ],\n",
       "       [ 1.  ,  1.56,  1.57,  1.73],\n",
       "       [ 1.  ,  1.55,  1.82,  1.88],\n",
       "       [ 1.  ,  1.81,  1.87,  1.89]])"
      ]
     },
     "execution_count": 3,
     "metadata": {},
     "output_type": "execute_result"
    }
   ],
   "source": [
    "data_file = np.load('C_nonequal_optimized_new_PCM.npz')\n",
    "np.round(data_file['data'].item()['C_nonequal'],2)"
   ]
  },
  {
   "cell_type": "code",
   "execution_count": 26,
   "metadata": {},
   "outputs": [
    {
     "data": {
      "text/plain": [
       "array([[ 1.  ,  1.  ,  1.  ,  1.  ],\n",
       "       [ 1.  ,  1.56,  1.7 ,  1.77],\n",
       "       [ 1.  ,  1.66,  1.82,  1.88],\n",
       "       [ 1.  ,  1.81,  1.87,  1.89]])"
      ]
     },
     "execution_count": 26,
     "metadata": {},
     "output_type": "execute_result"
    }
   ],
   "source": [
    "data_file = np.load('C_nonequal_optimized_new_PCM.npz')\n",
    "np.round(data_file['data'].item()['C_nonequal'],2)"
   ]
  },
  {
   "cell_type": "code",
   "execution_count": 93,
   "metadata": {},
   "outputs": [
    {
     "data": {
      "text/plain": [
       "array([[ 1.  ,  1.  ,  1.  ,  1.  ],\n",
       "       [ 1.  ,  1.56,  1.7 ,  1.77],\n",
       "       [ 1.  ,  1.66,  1.82,  1.88],\n",
       "       [ 1.  ,  1.81,  1.87,  1.91]])"
      ]
     },
     "execution_count": 93,
     "metadata": {},
     "output_type": "execute_result"
    }
   ],
   "source": [
    "data_file = np.load('C_nonequal_optimized_new_PCM.npz')\n",
    "np.round(data_file['data'].item()['C_nonequal'],2)"
   ]
  },
  {
   "cell_type": "code",
   "execution_count": 103,
   "metadata": {},
   "outputs": [
    {
     "data": {
      "text/plain": [
       "array([[ 1.  ,  1.  ,  1.  ,  1.  ],\n",
       "       [ 1.  ,  1.56,  1.7 ,  1.77],\n",
       "       [ 1.  ,  1.66,  1.82,  1.88],\n",
       "       [ 1.  ,  1.81,  1.87,  1.92]])"
      ]
     },
     "execution_count": 103,
     "metadata": {},
     "output_type": "execute_result"
    }
   ],
   "source": [
    "data_file = np.load('C_nonequal_optimized_new_PCM.npz')\n",
    "np.round(data_file['data'].item()['C_nonequal'],2)"
   ]
  },
  {
   "cell_type": "code",
   "execution_count": 111,
   "metadata": {},
   "outputs": [
    {
     "data": {
      "text/plain": [
       "array([[ 1.  ,  1.  ,  1.  ,  1.  ],\n",
       "       [ 1.  ,  1.56,  1.7 ,  1.77],\n",
       "       [ 1.  ,  1.66,  1.82,  1.88],\n",
       "       [ 1.  ,  1.81,  1.9 ,  1.93]])"
      ]
     },
     "execution_count": 111,
     "metadata": {},
     "output_type": "execute_result"
    }
   ],
   "source": [
    "data_file = np.load('C_nonequal_optimized_new_PCM.npz')\n",
    "np.round(data_file['data'].item()['C_nonequal'],2)"
   ]
  },
  {
   "cell_type": "code",
   "execution_count": 116,
   "metadata": {},
   "outputs": [
    {
     "data": {
      "text/plain": [
       "array([[ 1.  ,  1.  ,  1.  ,  1.  ],\n",
       "       [ 1.  ,  1.56,  1.7 ,  1.77],\n",
       "       [ 1.  ,  1.66,  1.82,  1.88],\n",
       "       [ 1.  ,  1.81,  1.9 ,  1.93]])"
      ]
     },
     "execution_count": 116,
     "metadata": {},
     "output_type": "execute_result"
    }
   ],
   "source": [
    "data_file = np.load('C_nonequal_optimized_new_PCM.npz')\n",
    "np.round(data_file['data'].item()['C_nonequal'],2)"
   ]
  },
  {
   "cell_type": "code",
   "execution_count": 112,
   "metadata": {
    "collapsed": true
   },
   "outputs": [],
   "source": [
    "ys = np.round(data_file['data'].item()['C_nonequal'],2)"
   ]
  },
  {
   "cell_type": "code",
   "execution_count": 113,
   "metadata": {},
   "outputs": [
    {
     "data": {
      "text/plain": [
       "<matplotlib.text.Text at 0x7ffbb5d7a128>"
      ]
     },
     "execution_count": 113,
     "metadata": {},
     "output_type": "execute_result"
    },
    {
     "data": {
      "image/png": "[encoded data removed]",
      "text/plain": [
       "<matplotlib.figure.Figure at 0x7ffbb5db4cf8>"
      ]
     },
     "metadata": {},
     "output_type": "display_data"
    }
   ],
   "source": [
    "x_plot = np.array([4,3,2,1])\n",
    "x = np.flip(x_plot, axis=0)\n",
    "colors = ['black', 'red','green','blue']\n",
    "plt.plot(x, 2*np.ones_like(x), c='black' ,linestyle='--')\n",
    "for i in x_plot:\n",
    "    plt.plot(x,ys[i-1,:], c=colors[i-1], marker='o')\n",
    "plt.legend([\"Analog: 2.08 bits\", \">11 states\", \"8 states\", \"4 states\", \"2 states\"], loc = (1.1,0.63))\n",
    "plt.xlabel(r\"${\\log}_{2} \\left(read \\ states\\right)$\")\n",
    "plt.ylabel(\"Capacity (bits)\")"
   ]
  },
  {
   "cell_type": "code",
   "execution_count": 86,
   "metadata": {},
   "outputs": [
    {
     "name": "stderr",
     "output_type": "stream",
     "text": [
      "/home/rzarcone/tensorflow/lib/python3.4/site-packages/ipykernel_launcher.py:4: DeprecationWarning: object of type <class 'float'> cannot be safely interpreted as an integer.\n",
      "  after removing the cwd from sys.path.\n"
     ]
    },
    {
     "data": {
      "text/plain": [
       "[<matplotlib.text.Text at 0x7ffbb5f1fda0>,\n",
       " <matplotlib.text.Text at 0x7ffbb5f3b2b0>,\n",
       " <matplotlib.text.Text at 0x7ffbb5ee19b0>]"
      ]
     },
     "execution_count": 86,
     "metadata": {},
     "output_type": "execute_result"
    },
    {
     "data": {
      "image/png": "[encoded data removed]",
      "text/plain": [
       "<matplotlib.figure.Figure at 0x7ffbb6027550>"
      ]
     },
     "metadata": {},
     "output_type": "display_data"
    }
   ],
   "source": [
    "fig = plt.figure()\n",
    "ax1 = fig.add_subplot(111)\n",
    "\n",
    "a = np.cos(2*np.pi*np.linspace(0, 1, 60.))\n",
    "ax1.plot(range(60), a)\n",
    "\n",
    "ax1.set_xlim(0, 60)\n",
    "ax1.set_xlabel(\"x\")\n",
    "ax1.set_ylabel(\"y\")\n",
    "\n",
    "ax2 = ax1.twiny()\n",
    "ax2.set_xlabel(\"x-transformed\")\n",
    "ax2.set_xlim(0, 60)\n",
    "ax2.set_xticks([10, 30, 40])\n",
    "ax2.set_xticklabels(['7','8','99'])"
   ]
  },
  {
   "cell_type": "code",
   "execution_count": 36,
   "metadata": {},
   "outputs": [
    {
     "data": {
      "text/plain": [
       "array([[ 0.,  0.,  0.,  0.],\n",
       "       [ 0.,  0.,  0.,  0.],\n",
       "       [ 0.,  0.,  0.,  0.],\n",
       "       [ 0.,  0.,  0.,  0.]])"
      ]
     },
     "execution_count": 36,
     "metadata": {},
     "output_type": "execute_result"
    }
   ],
   "source": [
    "test_mat = np.zeros((4,4))\n",
    "test_mat"
   ]
  },
  {
   "cell_type": "code",
   "execution_count": 37,
   "metadata": {},
   "outputs": [
    {
     "data": {
      "text/plain": [
       "array([[ 0.,  0.,  0.,  0.],\n",
       "       [ 0.,  0.,  0.,  0.],\n",
       "       [ 0.,  0.,  0.,  0.],\n",
       "       [ 0.,  0.,  1.,  1.]])"
      ]
     },
     "execution_count": 37,
     "metadata": {},
     "output_type": "execute_result"
    }
   ],
   "source": [
    "for ix, iy in [(3,2),(3,3)]:\n",
    "    test_mat[ix][iy] = 1\n",
    "test_mat"
   ]
  },
  {
   "cell_type": "code",
   "execution_count": null,
   "metadata": {
    "collapsed": true
   },
   "outputs": [],
   "source": []
  }
 ],
 "metadata": {
  "kernelspec": {
   "display_name": "Python 3",
   "language": "python",
   "name": "python3"
  },
  "language_info": {
   "codemirror_mode": {
    "name": "ipython",
    "version": 3
   },
   "file_extension": ".py",
   "mimetype": "text/x-python",
   "name": "python",
   "nbconvert_exporter": "python",
   "pygments_lexer": "ipython3",
   "version": "3.4.3"
  }
 },
 "nbformat": 4,
 "nbformat_minor": 2
}
