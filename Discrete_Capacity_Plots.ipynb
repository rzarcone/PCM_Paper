{
 "cells": [
  {
   "cell_type": "code",
   "execution_count": 1,
   "metadata": {
    "collapsed": true
   },
   "outputs": [],
   "source": [
    "from __future__ import division\n",
    "from pylab import *\n",
    "from scipy import optimize\n",
    "import numpy as np\n",
    "import pandas as pd\n",
    "\n",
    "import Jesse_Funcs_New.JessePlot\n",
    "import Jesse_Funcs_New.blahut as blahut\n",
    "import Jesse_Funcs_New.helpers as helpers\n",
    "import matplotlib.pyplot as plt\n",
    "%matplotlib inline  "
   ]
  },
  {
   "cell_type": "code",
   "execution_count": 2,
   "metadata": {},
   "outputs": [
    {
     "data": {
      "text/plain": [
       "array([[ 1.03066364,  1.03456128,  0.        ,  0.        ],\n",
       "       [ 1.03526249,  1.98494333,  2.00124845,  0.        ],\n",
       "       [ 0.        ,  2.00228688,  2.11968304,  0.        ],\n",
       "       [ 0.        ,  0.        ,  0.        ,  0.        ]])"
      ]
     },
     "execution_count": 2,
     "metadata": {},
     "output_type": "execute_result"
    }
   ],
   "source": [
    "data_file = np.load('C_nonequal_optimized.npz')\n",
    "data_file['data'].item()['C_nonequal']"
   ]
  },
  {
   "cell_type": "code",
   "execution_count": 3,
   "metadata": {},
   "outputs": [
    {
     "data": {
      "text/plain": [
       "array([[ 1.  ,  1.  ,  1.  ,  1.  ],\n",
       "       [ 1.  ,  1.56,  1.57,  1.73],\n",
       "       [ 1.  ,  1.55,  1.82,  1.88],\n",
       "       [ 1.  ,  1.81,  1.87,  1.89]])"
      ]
     },
     "execution_count": 3,
     "metadata": {},
     "output_type": "execute_result"
    }
   ],
   "source": [
    "data_file = np.load('C_nonequal_optimized_new_PCM.npz')\n",
    "np.round(data_file['data'].item()['C_nonequal'],2)"
   ]
  },
  {
   "cell_type": "code",
   "execution_count": 26,
   "metadata": {},
   "outputs": [
    {
     "data": {
      "text/plain": [
       "array([[ 1.  ,  1.  ,  1.  ,  1.  ],\n",
       "       [ 1.  ,  1.56,  1.7 ,  1.77],\n",
       "       [ 1.  ,  1.66,  1.82,  1.88],\n",
       "       [ 1.  ,  1.81,  1.87,  1.89]])"
      ]
     },
     "execution_count": 26,
     "metadata": {},
     "output_type": "execute_result"
    }
   ],
   "source": [
    "data_file = np.load('C_nonequal_optimized_new_PCM.npz')\n",
    "np.round(data_file['data'].item()['C_nonequal'],2)"
   ]
  },
  {
   "cell_type": "code",
   "execution_count": 93,
   "metadata": {},
   "outputs": [
    {
     "data": {
      "text/plain": [
       "array([[ 1.  ,  1.  ,  1.  ,  1.  ],\n",
       "       [ 1.  ,  1.56,  1.7 ,  1.77],\n",
       "       [ 1.  ,  1.66,  1.82,  1.88],\n",
       "       [ 1.  ,  1.81,  1.87,  1.91]])"
      ]
     },
     "execution_count": 93,
     "metadata": {},
     "output_type": "execute_result"
    }
   ],
   "source": [
    "data_file = np.load('C_nonequal_optimized_new_PCM.npz')\n",
    "np.round(data_file['data'].item()['C_nonequal'],2)"
   ]
  },
  {
   "cell_type": "code",
   "execution_count": 103,
   "metadata": {},
   "outputs": [
    {
     "data": {
      "text/plain": [
       "array([[ 1.  ,  1.  ,  1.  ,  1.  ],\n",
       "       [ 1.  ,  1.56,  1.7 ,  1.77],\n",
       "       [ 1.  ,  1.66,  1.82,  1.88],\n",
       "       [ 1.  ,  1.81,  1.87,  1.92]])"
      ]
     },
     "execution_count": 103,
     "metadata": {},
     "output_type": "execute_result"
    }
   ],
   "source": [
    "data_file = np.load('C_nonequal_optimized_new_PCM.npz')\n",
    "np.round(data_file['data'].item()['C_nonequal'],2)"
   ]
  },
  {
   "cell_type": "code",
   "execution_count": 111,
   "metadata": {},
   "outputs": [
    {
     "data": {
      "text/plain": [
       "array([[ 1.  ,  1.  ,  1.  ,  1.  ],\n",
       "       [ 1.  ,  1.56,  1.7 ,  1.77],\n",
       "       [ 1.  ,  1.66,  1.82,  1.88],\n",
       "       [ 1.  ,  1.81,  1.9 ,  1.93]])"
      ]
     },
     "execution_count": 111,
     "metadata": {},
     "output_type": "execute_result"
    }
   ],
   "source": [
    "data_file = np.load('C_nonequal_optimized_new_PCM.npz')\n",
    "np.round(data_file['data'].item()['C_nonequal'],2)"
   ]
  },
  {
   "cell_type": "code",
   "execution_count": 2,
   "metadata": {},
   "outputs": [
    {
     "data": {
      "text/plain": [
       "array([[ 1.  ,  1.  ,  1.  ,  1.  ],\n",
       "       [ 1.  ,  1.56,  1.7 ,  1.77],\n",
       "       [ 1.  ,  1.66,  1.82,  1.88],\n",
       "       [ 1.  ,  1.81,  1.9 ,  1.93]])"
      ]
     },
     "execution_count": 2,
     "metadata": {},
     "output_type": "execute_result"
    }
   ],
   "source": [
    "data_file = np.load('C_nonequal_optimized_new_PCM.npz')\n",
    "np.round(data_file['data'].item()['C_nonequal'],2)"
   ]
  },
  {
   "cell_type": "code",
   "execution_count": 3,
   "metadata": {
    "collapsed": true
   },
   "outputs": [],
   "source": [
    "ys = np.round(data_file['data'].item()['C_nonequal'],2)"
   ]
  },
  {
   "cell_type": "code",
   "execution_count": 4,
   "metadata": {},
   "outputs": [
    {
     "data": {
      "text/plain": [
       "<matplotlib.text.Text at 0x7f7b1f9f43c8>"
      ]
     },
     "execution_count": 4,
     "metadata": {},
     "output_type": "execute_result"
    },
    {
     "data": {
      "image/png": "[encoded data removed]",
      "text/plain": [
       "<matplotlib.figure.Figure at 0x7f7b21a48438>"
      ]
     },
     "metadata": {},
     "output_type": "display_data"
    }
   ],
   "source": [
    "x_plot = np.array([4,3,2,1])\n",
    "x = np.flip(x_plot, axis=0)\n",
    "colors = ['black', 'red','green','blue']\n",
    "plt.plot(x, 2*np.ones_like(x), c='black' ,linestyle='--')\n",
    "for i in x_plot:\n",
    "    plt.plot(x,ys[i-1,:], c=colors[i-1], marker='o')\n",
    "plt.legend([\"Analog: 2.08 bits\", \">11 states\", \"8 states\", \"4 states\", \"2 states\"], loc = (1.1,0.63))\n",
    "plt.xlabel(r\"${\\log}_{2} \\left(read \\ states\\right)$\")\n",
    "plt.ylabel(\"Capacity (bits)\")"
   ]
  },
  {
   "cell_type": "code",
   "execution_count": 24,
   "metadata": {},
   "outputs": [
    {
     "data": {
      "text/plain": [
       "array([[ 1.  ,  1.  ,  1.  ,  1.  ],\n",
       "       [ 1.  ,  1.56,  1.7 ,  1.77],\n",
       "       [ 1.  ,  1.66,  1.82,  1.88],\n",
       "       [ 1.  ,  1.81,  1.9 ,  1.93]])"
      ]
     },
     "execution_count": 24,
     "metadata": {},
     "output_type": "execute_result"
    }
   ],
   "source": [
    "data_file = np.load('C_nonequal_optimized_new_PCM.npz')\n",
    "test_mat = data_file['data'].item()['C_nonequal']\n",
    "np.round(test_mat, 2)"
   ]
  },
  {
   "cell_type": "code",
   "execution_count": 48,
   "metadata": {},
   "outputs": [
    {
     "data": {
      "text/plain": [
       "array([[ 0.  ,  0.  ,  0.  ,  0.  ,  1.  ],\n",
       "       [ 0.  ,  0.  ,  0.  ,  0.  ,  1.68],\n",
       "       [ 0.  ,  0.  ,  0.  ,  0.  ,  1.87],\n",
       "       [ 0.  ,  0.  ,  0.  ,  0.  ,  1.86],\n",
       "       [ 1.  ,  1.56,  1.57,  1.78,  1.94]])"
      ]
     },
     "execution_count": 48,
     "metadata": {},
     "output_type": "execute_result"
    }
   ],
   "source": [
    "data_file = np.load('C_nonequal_optimized_new_PCM_more_states.npz')\n",
    "test_mat_new = data_file['data'].item()['C_nonequal']\n",
    "np.round(test_mat_new, 2)"
   ]
  },
  {
   "cell_type": "code",
   "execution_count": 45,
   "metadata": {},
   "outputs": [
    {
     "name": "stderr",
     "output_type": "stream",
     "text": [
      "/home/rzarcone/tensorflow/lib/python3.4/site-packages/ipykernel_launcher.py:2: VisibleDeprecationWarning: boolean index did not match indexed array along dimension 0; dimension is 5 but corresponding boolean dimension is 4\n",
      "  \n"
     ]
    },
    {
     "data": {
      "text/plain": [
       "array([[ 1.  ,  1.  ,  1.  ,  1.  ,  1.  ],\n",
       "       [ 1.  ,  1.56,  1.7 ,  1.77,  1.68],\n",
       "       [ 1.  ,  1.66,  1.82,  1.88,  1.87],\n",
       "       [ 1.  ,  1.81,  1.9 ,  1.93,  1.86],\n",
       "       [ 1.  ,  1.56,  1.57,  1.78,  1.94]])"
      ]
     },
     "execution_count": 45,
     "metadata": {},
     "output_type": "execute_result"
    }
   ],
   "source": [
    "combined_mat_idx = [test_mat>0.0]\n",
    "test_mat_new[combined_mat_idx] = test_mat[combined_mat_idx]\n",
    "np.round(test_mat_new, 2)"
   ]
  },
  {
   "cell_type": "code",
   "execution_count": 46,
   "metadata": {},
   "outputs": [
    {
     "data": {
      "text/plain": [
       "array([[ 1.  ,  1.  ,  1.  ,  1.  ,  1.  ],\n",
       "       [ 1.  ,  1.56,  1.7 ,  1.77,  1.68],\n",
       "       [ 1.  ,  1.66,  1.82,  1.88,  1.87],\n",
       "       [ 1.  ,  1.81,  1.9 ,  1.93,  1.94],\n",
       "       [ 1.  ,  1.81,  1.9 ,  1.93,  1.94]])"
      ]
     },
     "execution_count": 46,
     "metadata": {},
     "output_type": "execute_result"
    }
   ],
   "source": [
    "ys = np.round(test_mat_new, 2)\n",
    "ys[4,:-1] = ys[3,:-1] \n",
    "ys[3,4] = ys[4,4]\n",
    "ys"
   ]
  },
  {
   "cell_type": "code",
   "execution_count": 47,
   "metadata": {},
   "outputs": [
    {
     "data": {
      "text/plain": [
       "<matplotlib.text.Text at 0x7f7b1f48e588>"
      ]
     },
     "execution_count": 47,
     "metadata": {},
     "output_type": "execute_result"
    },
    {
     "data": {
      "image/png": "[encoded data removed]",
      "text/plain": [
       "<matplotlib.figure.Figure at 0x7f7b1f4b74e0>"
      ]
     },
     "metadata": {},
     "output_type": "display_data"
    }
   ],
   "source": [
    "x_plot = np.array([5,4,3,2,1])\n",
    "x = np.flip(x_plot, axis=0)\n",
    "colors = ['black', 'red','green','blue', 'purple']\n",
    "plt.plot(x, 2*np.ones_like(x), c='black' ,linestyle='--')\n",
    "for i in x_plot:\n",
    "    plt.plot(x,ys[i-1,:], c=colors[i-1], marker='o')\n",
    "plt.legend([\"Analog: 2.08 bits\", \"32 states\", \"16 states\", \"8 states\", \"4 states\", \"2 states\"], loc = (1.1,0.63))\n",
    "plt.xlabel(r\"${\\log}_{2} \\left(read \\ states\\right)$\")\n",
    "plt.ylabel(\"Capacity (bits)\")"
   ]
  },
  {
   "cell_type": "code",
   "execution_count": null,
   "metadata": {
    "collapsed": true
   },
   "outputs": [],
   "source": []
  }
 ],
 "metadata": {
  "kernelspec": {
   "display_name": "Python 3",
   "language": "python",
   "name": "python3"
  },
  "language_info": {
   "codemirror_mode": {
    "name": "ipython",
    "version": 3
   },
   "file_extension": ".py",
   "mimetype": "text/x-python",
   "name": "python",
   "nbconvert_exporter": "python",
   "pygments_lexer": "ipython3",
   "version": "3.4.3"
  }
 },
 "nbformat": 4,
 "nbformat_minor": 2
}
