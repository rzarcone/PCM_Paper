{
 "cells": [
  {
   "cell_type": "code",
   "execution_count": null,
   "metadata": {
    "collapsed": true
   },
   "outputs": [],
   "source": [
    "import numpy as np\n",
    "import tensorflow as tf"
   ]
  },
  {
   "cell_type": "code",
   "execution_count": null,
   "metadata": {
    "collapsed": true
   },
   "outputs": [],
   "source": [
    "from utils import gauss_interp\n",
    "from get_data import get_memristor_data"
   ]
  },
  {
   "cell_type": "code",
   "execution_count": null,
   "metadata": {
    "collapsed": false
   },
   "outputs": [],
   "source": [
    "path = 'Data/Partial_Reset_PCM.pkl'\n",
    "n_mem = 1\n",
    "vs_data, mus_data, sigs_data = get_memristor_data(path,n_mem)\n",
    "\n",
    "n_samp, n_m = vs_data.shape"
   ]
  },
  {
   "cell_type": "code",
   "execution_count": null,
   "metadata": {
    "collapsed": true
   },
   "outputs": [],
   "source": [
    "# vs_data = np.arange(0, 10, 1)[:, np.newaxis]"
   ]
  },
  {
   "cell_type": "code",
   "execution_count": null,
   "metadata": {
    "collapsed": true
   },
   "outputs": [],
   "source": [
    "# mus_data = np.zeros_like(vs_data)\n",
    "# mus_data[4:6, :] = 1"
   ]
  },
  {
   "cell_type": "code",
   "execution_count": null,
   "metadata": {
    "collapsed": true
   },
   "outputs": [],
   "source": [
    "interp_width = np.array(vs_data[1, 0] - vs_data[0, 0]).astype('float32')"
   ]
  },
  {
   "cell_type": "code",
   "execution_count": null,
   "metadata": {
    "collapsed": false
   },
   "outputs": [],
   "source": [
    "d_in = 784 \n",
    "n_layers = 3 \n",
    "f = lambda x: x  # Nonlinearity\n",
    "f = tf.nn.tanh\n",
    "\n",
    "interp_width = np.array(vs_data[1, 0] - vs_data[0, 0]).astype('float32')\n",
    "GAMMA = 1.0  # slope of the out of bounds cost\n",
    "\n",
    "in_shape = (None, d_in)\n",
    "noise_shape = (None, n_m)\n",
    "\n",
    "n_h_e = 200 \n",
    "n_h_d = 200 \n",
    "\n",
    "learning_rate = 0.001"
   ]
  },
  {
   "cell_type": "code",
   "execution_count": null,
   "metadata": {
    "collapsed": true
   },
   "outputs": [],
   "source": [
    "VMIN, VMAX = vs_data.min(), vs_data.max()\n"
   ]
  },
  {
   "cell_type": "code",
   "execution_count": null,
   "metadata": {
    "collapsed": true
   },
   "outputs": [],
   "source": [
    "# Input\n",
    "x = tf.placeholder(tf.float32, shape=in_shape)\n",
    "\n",
    "# Noise\n",
    "eps = tf.placeholder(tf.float32, shape=noise_shape)\n",
    "\n",
    "# Values for memristors\n",
    "vs = tf.Variable(initial_value=vs_data.astype('float32'), trainable=False, name='vs')\n",
    "mus = tf.Variable(initial_value=mus_data.astype('float32'), trainable=False, name='mus')\n",
    "sigs = tf.Variable(initial_value=sigs_data.astype('float32'), trainable=False, name='sigs')"
   ]
  },
  {
   "cell_type": "code",
   "execution_count": null,
   "metadata": {
    "collapsed": true
   },
   "outputs": [],
   "source": [
    "import matplotlib.pyplot as plt\n",
    "%matplotlib inline"
   ]
  },
  {
   "cell_type": "code",
   "execution_count": null,
   "metadata": {
    "collapsed": false
   },
   "outputs": [],
   "source": [
    "v = tf.placeholder(tf.float32, (None, n_m))"
   ]
  },
  {
   "cell_type": "code",
   "execution_count": null,
   "metadata": {
    "collapsed": false
   },
   "outputs": [],
   "source": [
    "t_mu = gauss_interp(v, vs, mus, interp_width=interp_width, ratio=1.)"
   ]
  },
  {
   "cell_type": "code",
   "execution_count": null,
   "metadata": {
    "collapsed": true
   },
   "outputs": [],
   "source": [
    "batch_size = 5000"
   ]
  },
  {
   "cell_type": "code",
   "execution_count": null,
   "metadata": {
    "collapsed": false
   },
   "outputs": [],
   "source": [
    "vs_data.shape"
   ]
  },
  {
   "cell_type": "code",
   "execution_count": null,
   "metadata": {
    "collapsed": false
   },
   "outputs": [],
   "source": [
    "vs_data[:, 0]"
   ]
  },
  {
   "cell_type": "code",
   "execution_count": null,
   "metadata": {
    "collapsed": false
   },
   "outputs": [],
   "source": [
    "gpu_options = tf.GPUOptions(per_process_gpu_memory_fraction=0.2)\n",
    "config = tf.ConfigProto(gpu_options=gpu_options)\n",
    "\n",
    "with tf.Session(config=config) as sess:\n",
    "    sess.run(tf.initialize_all_variables())\n",
    "    eps_values = np.random.randn(batch_size, n_m) \n",
    "    v_values = np.random.rand(batch_size, n_m) * (VMAX - VMIN) + VMIN\n",
    "    mu_values = sess.run(t_mu, feed_dict={v: v_values,\n",
    "                              eps: eps_values})"
   ]
  },
  {
   "cell_type": "code",
   "execution_count": null,
   "metadata": {
    "collapsed": false
   },
   "outputs": [],
   "source": [
    "plt.figure(figsize=(10, 10))\n",
    "plt.scatter(v_values, mu_values)\n",
    "plt.scatter(vs_data, mus_data, c='g')"
   ]
  },
  {
   "cell_type": "code",
   "execution_count": null,
   "metadata": {
    "collapsed": true
   },
   "outputs": [],
   "source": []
  },
  {
   "cell_type": "code",
   "execution_count": null,
   "metadata": {
    "collapsed": true
   },
   "outputs": [],
   "source": []
  }
 ],
 "metadata": {
  "kernelspec": {
   "display_name": "Python 2",
   "language": "python",
   "name": "python2"
  },
  "language_info": {
   "codemirror_mode": {
    "name": "ipython",
    "version": 2
   },
   "file_extension": ".py",
   "mimetype": "text/x-python",
   "name": "python",
   "nbconvert_exporter": "python",
   "pygments_lexer": "ipython2",
   "version": "2.7.12"
  }
 },
 "nbformat": 4,
 "nbformat_minor": 0
}
